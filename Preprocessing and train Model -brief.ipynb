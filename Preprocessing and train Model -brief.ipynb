{
 "cells": [
  {
   "cell_type": "code",
   "execution_count": 1,
   "id": "2f84d669",
   "metadata": {},
   "outputs": [],
   "source": [
    "import pandas as pd\n",
    "import pickle\n",
    "import numpy as np\n",
    "from sklearn.model_selection import train_test_split\n",
    "data=pd.read_excel('E Commerce Dataset.xlsx',sheet_name= 'E Comm')"
   ]
  },
  {
   "cell_type": "code",
   "execution_count": 2,
   "id": "62fbf535",
   "metadata": {},
   "outputs": [],
   "source": [
    "# Replace CC to CreditCard\n",
    "data['PreferredPaymentMode'] = data['PreferredPaymentMode'].replace({'CC':'Credit Card'})\n",
    "\n",
    "# Replace COD to  Cash On Delivery\n",
    "data['PreferredPaymentMode'] = data['PreferredPaymentMode'].replace({'COD':'Cash on Delivery'})\n",
    "\n",
    "# Replace Mobile to Mobile Phone\n",
    "data['PreferedOrderCat'] = data['PreferedOrderCat'].replace({'Mobile':'Mobile Phone'})\n",
    "\n",
    "# Replace Phone to Mobile Phone\n",
    "data['PreferredLoginDevice'] = data['PreferredLoginDevice'].replace({'Phone':'Mobile Phone'})"
   ]
  },
  {
   "cell_type": "code",
   "execution_count": 3,
   "id": "6fc74dbc",
   "metadata": {},
   "outputs": [],
   "source": [
    "#taking numerical columns\n",
    "num_e=data.select_dtypes(exclude='object').columns\n",
    "num=data.select_dtypes(include=[\"int64\",\"float64\"])\n",
    "num=num.iloc[:,1:]\n",
    "\n",
    "#taking catagorical columns\n",
    "category=data.select_dtypes(include=[\"object\"])"
   ]
  },
  {
   "cell_type": "code",
   "execution_count": 4,
   "id": "d5615690",
   "metadata": {},
   "outputs": [
    {
     "data": {
      "text/plain": [
       "Debit Card          2314\n",
       "Credit Card         1774\n",
       "E wallet             614\n",
       "Cash on Delivery     514\n",
       "UPI                  414\n",
       "Name: PreferredPaymentMode, dtype: int64"
      ]
     },
     "execution_count": 4,
     "metadata": {},
     "output_type": "execute_result"
    }
   ],
   "source": [
    "data['PreferredPaymentMode'].value_counts()"
   ]
  },
  {
   "cell_type": "code",
   "execution_count": 10,
   "id": "0af6670f",
   "metadata": {},
   "outputs": [],
   "source": [
    "# Handling Missing Values\n",
    "\n",
    "# Tenure\n",
    "mask1 = (data['Tenure'].isna()) & (data['Churn']==1) # fill 1\n",
    "mask0 = (data['Tenure'].isna()) & (data['Churn']==0)  # fill 10\n",
    "data.loc[mask1,'Tenure'] = data[mask1]['Tenure'].fillna(1)\n",
    "data.loc[mask0,'Tenure'] = data[mask0]['Tenure'].fillna(10)\n",
    "\n",
    "# Warehouse to home\n",
    "mask0 = (data['WarehouseToHome'].isna()) & (data['Churn']==0)  # fill 13\n",
    "mask1 = (data['WarehouseToHome'].isna()) & (data['Churn']==1) # fill 15\n",
    "data.loc[mask0,'WarehouseToHome'] = data[mask0]['WarehouseToHome'].fillna(13)\n",
    "data.loc[mask1,'WarehouseToHome'] = data[mask1]['WarehouseToHome'].fillna(15)\n",
    "\n",
    "#HourSpend on App\n",
    "data ['HourSpendOnApp'] = data['HourSpendOnApp'].fillna(3)\n",
    "data ['HourSpendOnApp'].isna().sum()\n",
    "\n",
    "#Order Amount Hike From Last Year\n",
    "data['OrderAmountHikeFromlastYear'] =data['OrderAmountHikeFromlastYear'].fillna(14.5)\n",
    "\n",
    "# Coupon Used\n",
    "data['CouponUsed'] = data['CouponUsed'].fillna(1)\n",
    "\n",
    "# Order Count\n",
    "data['OrderCount']=data['OrderCount'].fillna(2)\n",
    "\n",
    "# Day Since Last Order\n",
    "mask0 = (data['DaySinceLastOrder'].isna()) & (data['Churn']==0)  # fill 4\n",
    "mask1 = (data['DaySinceLastOrder'].isna()) & (data['Churn']==1) # fill 2\n",
    "data.loc[mask0,'DaySinceLastOrder'] = data[mask0]['DaySinceLastOrder'].fillna(4)\n",
    "data.loc[mask1,'DaySinceLastOrder'] = data[mask1]['DaySinceLastOrder'].fillna(2)"
   ]
  },
  {
   "cell_type": "code",
   "execution_count": 6,
   "id": "61a2d1e5",
   "metadata": {},
   "outputs": [],
   "source": [
    "# Handling Outlier\n",
    "\n",
    "# Tenure\n",
    "data['Tenure'] = np.where(data['Tenure'] > 30,30,data['Tenure'])\n",
    "q1,q3 = np.percentile(data['WarehouseToHome'],[25,75])\n",
    "iqr = q3-1\n",
    "ul = q3 = 1.5*iqr\n",
    "ul , np.percentile(data['WarehouseToHome'],99)\n",
    "\n",
    "# Warehouse to Home\n",
    "data['WarehouseToHome'] = np.where(data['WarehouseToHome'] > 36, 36,data['WarehouseToHome'])"
   ]
  },
  {
   "cell_type": "code",
   "execution_count": 8,
   "id": "6894ef09",
   "metadata": {},
   "outputs": [],
   "source": [
    "# Encoding\n",
    "from sklearn.preprocessing import OneHotEncoder\n",
    "enc_drop = OneHotEncoder(drop= 'first')\n",
    "enc_drop.fit(category)\n",
    "encoded = enc_drop.transform(category).toarray()\n",
    "\n",
    "#enc.inverse_transform(encoded)\n",
    "df_enc = data.join(pd.DataFrame(encoded,columns =['PreferredLoginDevice_Mobile Phone',\n",
    "       'PreferredPaymentMode_Credit Card',\n",
    "       'PreferredPaymentMode_Debit Card', 'PreferredPaymentMode_E wallet',\n",
    "       'PreferredPaymentMode_UPI', 'Gender_Male',\n",
    "       'PreferedOrderCat_Grocery', 'PreferedOrderCat_Laptop & Accessory',\n",
    "       'PreferedOrderCat_Mobile Phone', 'PreferedOrderCat_Others',\n",
    "       'MaritalStatus_Married', 'MaritalStatus_Single'] ))\n",
    "\n",
    "df_enc =df_enc.drop(['PreferredLoginDevice','PreferredPaymentMode', 'Gender',\n",
    "       'PreferedOrderCat','MaritalStatus'],axis=1)"
   ]
  },
  {
   "cell_type": "code",
   "execution_count": 9,
   "id": "3b6c4cd9",
   "metadata": {},
   "outputs": [],
   "source": [
    "# New column Tenure in year\n",
    "df_enc['Tenure_year'] = df_enc['Tenure']/12"
   ]
  },
  {
   "cell_type": "code",
   "execution_count": null,
   "id": "0a9a8b9b",
   "metadata": {},
   "outputs": [],
   "source": [
    "# X\n",
    "x = df_enc.drop(['Churn', 'CustomerID'], axis =1)\n",
    "y = df_enc['Churn']\n",
    "\n",
    "from imblearn import over_sampling\n",
    "x,y = over_sampling.SMOTE(0.5).fit_resample(x,y)\n",
    "\n",
    "\n",
    "from xgboost import XGBClassifier\n",
    "\n",
    "xgb = XGBClassifier(eval_metric='error')\n",
    "\n",
    "# Splitting data\n",
    "from sklearn.model_selection import train_test_split\n",
    "x_train,x_test,y_train,y_test= train_test_split(x,y,test_size=0.2,random_state=42)\n",
    "\n",
    "# Traning data\n",
    "xgb.fit(x_train,y_train)"
   ]
  },
  {
   "cell_type": "markdown",
   "id": "f6a5b29d",
   "metadata": {},
   "source": [
    "# Save Model"
   ]
  },
  {
   "cell_type": "code",
   "execution_count": null,
   "id": "7a95704c",
   "metadata": {},
   "outputs": [],
   "source": [
    "import pickle\n",
    "file='xgboost_model.pkl'\n",
    "pickle.dump(xgb, open(file, 'wb'))"
   ]
  },
  {
   "cell_type": "code",
   "execution_count": null,
   "id": "3cebcb99",
   "metadata": {},
   "outputs": [],
   "source": [
    "load_model=pickle.load(open(file, 'rb'))"
   ]
  },
  {
   "cell_type": "code",
   "execution_count": null,
   "id": "ae511b56",
   "metadata": {},
   "outputs": [],
   "source": [
    "y_prep =load_model.predict(x_test)"
   ]
  }
 ],
 "metadata": {
  "kernelspec": {
   "display_name": "Python 3 (ipykernel)",
   "language": "python",
   "name": "python3"
  },
  "language_info": {
   "codemirror_mode": {
    "name": "ipython",
    "version": 3
   },
   "file_extension": ".py",
   "mimetype": "text/x-python",
   "name": "python",
   "nbconvert_exporter": "python",
   "pygments_lexer": "ipython3",
   "version": "3.9.12"
  }
 },
 "nbformat": 4,
 "nbformat_minor": 5
}
